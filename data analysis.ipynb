{
 "cells": [
  {
   "cell_type": "markdown",
   "metadata": {},
   "source": [
    "# project Data Science Methodology\n"
   ]
  },
  {
   "cell_type": "markdown",
   "metadata": {},
   "source": [
    "### 📋 Variable description"
   ]
  },
  {
   "cell_type": "markdown",
   "metadata": {},
   "source": [
    "`Customer_id` = unique customer id\n",
    "\n",
    "`Age` = customer's age\n",
    "\n",
    "`Gender` = 0: Male, 1: Female\n",
    "\n",
    "`Revenue_Total` = total sales by customer\n",
    "\n",
    "`N_Purchases` = number of purchases to date\n",
    "\n",
    "`Purchase_DATE` = date latest purchase, dd.mm.yy\n",
    "\n",
    "`Purchase_VALUE` = latest purchase in €\n",
    "\n",
    "`Pay_Method` = 0: Digital Wallets, 1: Card, 2: PayPal, 3: Other\n",
    "\n",
    "`Time_Spent` = time spent (in sec) on website\n",
    "\n",
    "`Browser` = 0: Chrome, 1: Safari, 2: Edge, 3: Other\n",
    "\n",
    "`Newsletter` = 0: not subscribed, 1: subscribed\n",
    "\n",
    "`Voucher` = 0: not used, 1: used"
   ]
  },
  {
   "cell_type": "markdown",
   "metadata": {},
   "source": []
  },
  {
   "cell_type": "markdown",
   "metadata": {},
   "source": [
    "### 📚 Imports"
   ]
  },
  {
   "cell_type": "code",
   "execution_count": 189,
   "metadata": {},
   "outputs": [],
   "source": [
    "import pandas as pd\n",
    "import numpy as np\n",
    "import seaborn as sns\n",
    "import matplotlib.pyplot as plt\n",
    "import squarify\n",
    "from datetime import datetime\n",
    "from matplotlib.ticker import FuncFormatter"
   ]
  },
  {
   "cell_type": "markdown",
   "metadata": {},
   "source": [
    "### 📖 Data"
   ]
  },
  {
   "cell_type": "code",
   "execution_count": 190,
   "metadata": {},
   "outputs": [],
   "source": [
    "df = pd.read_csv('C:/Users/ZBOOK STUDIO G5/Desktop/CS/Semester 3/Data Science Methodology/project-1/Online Shop Customer Sales Data.csv')"
   ]
  },
  {
   "cell_type": "code",
   "execution_count": 191,
   "metadata": {},
   "outputs": [
    {
     "data": {
      "text/html": [
       "<div>\n",
       "<style scoped>\n",
       "    .dataframe tbody tr th:only-of-type {\n",
       "        vertical-align: middle;\n",
       "    }\n",
       "\n",
       "    .dataframe tbody tr th {\n",
       "        vertical-align: top;\n",
       "    }\n",
       "\n",
       "    .dataframe thead th {\n",
       "        text-align: right;\n",
       "    }\n",
       "</style>\n",
       "<table border=\"1\" class=\"dataframe\">\n",
       "  <thead>\n",
       "    <tr style=\"text-align: right;\">\n",
       "      <th></th>\n",
       "      <th>Customer_id</th>\n",
       "      <th>Age</th>\n",
       "      <th>Gender</th>\n",
       "      <th>Revenue_Total</th>\n",
       "      <th>N_Purchases</th>\n",
       "      <th>Purchase_DATE</th>\n",
       "      <th>Purchase_VALUE</th>\n",
       "      <th>Pay_Method</th>\n",
       "      <th>Time_Spent</th>\n",
       "      <th>Browser</th>\n",
       "      <th>Newsletter</th>\n",
       "      <th>Voucher</th>\n",
       "    </tr>\n",
       "  </thead>\n",
       "  <tbody>\n",
       "    <tr>\n",
       "      <th>0</th>\n",
       "      <td>504308.0</td>\n",
       "      <td>53.0</td>\n",
       "      <td>0.0</td>\n",
       "      <td>45.3</td>\n",
       "      <td>2.0</td>\n",
       "      <td>22.06.21</td>\n",
       "      <td>24.915</td>\n",
       "      <td>1.0</td>\n",
       "      <td>885.0</td>\n",
       "      <td>0.0</td>\n",
       "      <td>0.0</td>\n",
       "      <td>0.0</td>\n",
       "    </tr>\n",
       "    <tr>\n",
       "      <th>1</th>\n",
       "      <td>504309.0</td>\n",
       "      <td>18.0</td>\n",
       "      <td>1.0</td>\n",
       "      <td>36.2</td>\n",
       "      <td>3.0</td>\n",
       "      <td>10.12.21</td>\n",
       "      <td>2.896</td>\n",
       "      <td>2.0</td>\n",
       "      <td>656.0</td>\n",
       "      <td>0.0</td>\n",
       "      <td>0.0</td>\n",
       "      <td>1.0</td>\n",
       "    </tr>\n",
       "    <tr>\n",
       "      <th>2</th>\n",
       "      <td>504310.0</td>\n",
       "      <td>52.0</td>\n",
       "      <td>1.0</td>\n",
       "      <td>10.6</td>\n",
       "      <td>1.0</td>\n",
       "      <td>14.03.21</td>\n",
       "      <td>10.600</td>\n",
       "      <td>0.0</td>\n",
       "      <td>761.0</td>\n",
       "      <td>0.0</td>\n",
       "      <td>1.0</td>\n",
       "      <td>0.0</td>\n",
       "    </tr>\n",
       "    <tr>\n",
       "      <th>3</th>\n",
       "      <td>504311.0</td>\n",
       "      <td>29.0</td>\n",
       "      <td>0.0</td>\n",
       "      <td>54.1</td>\n",
       "      <td>5.0</td>\n",
       "      <td>25.10.21</td>\n",
       "      <td>43.280</td>\n",
       "      <td>1.0</td>\n",
       "      <td>906.0</td>\n",
       "      <td>0.0</td>\n",
       "      <td>1.0</td>\n",
       "      <td>0.0</td>\n",
       "    </tr>\n",
       "    <tr>\n",
       "      <th>4</th>\n",
       "      <td>504312.0</td>\n",
       "      <td>21.0</td>\n",
       "      <td>1.0</td>\n",
       "      <td>56.9</td>\n",
       "      <td>1.0</td>\n",
       "      <td>14.09.21</td>\n",
       "      <td>56.900</td>\n",
       "      <td>1.0</td>\n",
       "      <td>605.0</td>\n",
       "      <td>0.0</td>\n",
       "      <td>1.0</td>\n",
       "      <td>0.0</td>\n",
       "    </tr>\n",
       "  </tbody>\n",
       "</table>\n",
       "</div>"
      ],
      "text/plain": [
       "   Customer_id   Age  Gender  Revenue_Total  N_Purchases Purchase_DATE  \\\n",
       "0     504308.0  53.0     0.0           45.3          2.0      22.06.21   \n",
       "1     504309.0  18.0     1.0           36.2          3.0      10.12.21   \n",
       "2     504310.0  52.0     1.0           10.6          1.0      14.03.21   \n",
       "3     504311.0  29.0     0.0           54.1          5.0      25.10.21   \n",
       "4     504312.0  21.0     1.0           56.9          1.0      14.09.21   \n",
       "\n",
       "   Purchase_VALUE  Pay_Method  Time_Spent  Browser  Newsletter  Voucher  \n",
       "0          24.915         1.0       885.0      0.0         0.0      0.0  \n",
       "1           2.896         2.0       656.0      0.0         0.0      1.0  \n",
       "2          10.600         0.0       761.0      0.0         1.0      0.0  \n",
       "3          43.280         1.0       906.0      0.0         1.0      0.0  \n",
       "4          56.900         1.0       605.0      0.0         1.0      0.0  "
      ]
     },
     "execution_count": 191,
     "metadata": {},
     "output_type": "execute_result"
    }
   ],
   "source": [
    "df.head()"
   ]
  },
  {
   "cell_type": "code",
   "execution_count": 192,
   "metadata": {},
   "outputs": [
    {
     "name": "stdout",
     "output_type": "stream",
     "text": [
      "<class 'pandas.core.frame.DataFrame'>\n",
      "RangeIndex: 65862 entries, 0 to 65861\n",
      "Data columns (total 12 columns):\n",
      " #   Column          Non-Null Count  Dtype  \n",
      "---  ------          --------------  -----  \n",
      " 0   Customer_id     65853 non-null  float64\n",
      " 1   Age             65850 non-null  float64\n",
      " 2   Gender          65852 non-null  float64\n",
      " 3   Revenue_Total   65853 non-null  float64\n",
      " 4   N_Purchases     65847 non-null  float64\n",
      " 5   Purchase_DATE   65843 non-null  object \n",
      " 6   Purchase_VALUE  65849 non-null  float64\n",
      " 7   Pay_Method      65850 non-null  float64\n",
      " 8   Time_Spent      65849 non-null  float64\n",
      " 9   Browser         65852 non-null  float64\n",
      " 10  Newsletter      65844 non-null  float64\n",
      " 11  Voucher         65850 non-null  float64\n",
      "dtypes: float64(11), object(1)\n",
      "memory usage: 6.0+ MB\n"
     ]
    }
   ],
   "source": [
    "df.info()"
   ]
  },
  {
   "cell_type": "code",
   "execution_count": 193,
   "metadata": {},
   "outputs": [
    {
     "data": {
      "text/html": [
       "<div>\n",
       "<style scoped>\n",
       "    .dataframe tbody tr th:only-of-type {\n",
       "        vertical-align: middle;\n",
       "    }\n",
       "\n",
       "    .dataframe tbody tr th {\n",
       "        vertical-align: top;\n",
       "    }\n",
       "\n",
       "    .dataframe thead th {\n",
       "        text-align: right;\n",
       "    }\n",
       "</style>\n",
       "<table border=\"1\" class=\"dataframe\">\n",
       "  <thead>\n",
       "    <tr style=\"text-align: right;\">\n",
       "      <th></th>\n",
       "      <th>count</th>\n",
       "      <th>mean</th>\n",
       "      <th>std</th>\n",
       "      <th>min</th>\n",
       "      <th>25%</th>\n",
       "      <th>50%</th>\n",
       "      <th>75%</th>\n",
       "      <th>max</th>\n",
       "    </tr>\n",
       "  </thead>\n",
       "  <tbody>\n",
       "    <tr>\n",
       "      <th>Customer_id</th>\n",
       "      <td>65853.0</td>\n",
       "      <td>537203.550529</td>\n",
       "      <td>18993.604793</td>\n",
       "      <td>504308.000</td>\n",
       "      <td>520755.000</td>\n",
       "      <td>537203.000</td>\n",
       "      <td>553652.00</td>\n",
       "      <td>570103.0</td>\n",
       "    </tr>\n",
       "    <tr>\n",
       "      <th>Age</th>\n",
       "      <td>65850.0</td>\n",
       "      <td>39.590767</td>\n",
       "      <td>13.825623</td>\n",
       "      <td>16.000</td>\n",
       "      <td>28.000</td>\n",
       "      <td>40.000</td>\n",
       "      <td>51.00</td>\n",
       "      <td>63.0</td>\n",
       "    </tr>\n",
       "    <tr>\n",
       "      <th>Gender</th>\n",
       "      <td>65852.0</td>\n",
       "      <td>0.671506</td>\n",
       "      <td>0.469669</td>\n",
       "      <td>0.000</td>\n",
       "      <td>0.000</td>\n",
       "      <td>1.000</td>\n",
       "      <td>1.00</td>\n",
       "      <td>1.0</td>\n",
       "    </tr>\n",
       "    <tr>\n",
       "      <th>Revenue_Total</th>\n",
       "      <td>65853.0</td>\n",
       "      <td>27.734806</td>\n",
       "      <td>14.941188</td>\n",
       "      <td>0.500</td>\n",
       "      <td>15.300</td>\n",
       "      <td>30.100</td>\n",
       "      <td>37.60</td>\n",
       "      <td>59.9</td>\n",
       "    </tr>\n",
       "    <tr>\n",
       "      <th>N_Purchases</th>\n",
       "      <td>65847.0</td>\n",
       "      <td>3.992559</td>\n",
       "      <td>2.004355</td>\n",
       "      <td>1.000</td>\n",
       "      <td>2.000</td>\n",
       "      <td>4.000</td>\n",
       "      <td>6.00</td>\n",
       "      <td>7.0</td>\n",
       "    </tr>\n",
       "    <tr>\n",
       "      <th>Purchase_VALUE</th>\n",
       "      <td>65849.0</td>\n",
       "      <td>15.969669</td>\n",
       "      <td>13.229682</td>\n",
       "      <td>0.005</td>\n",
       "      <td>4.823</td>\n",
       "      <td>12.642</td>\n",
       "      <td>24.75</td>\n",
       "      <td>59.9</td>\n",
       "    </tr>\n",
       "    <tr>\n",
       "      <th>Pay_Method</th>\n",
       "      <td>65850.0</td>\n",
       "      <td>1.308702</td>\n",
       "      <td>1.081928</td>\n",
       "      <td>0.000</td>\n",
       "      <td>0.000</td>\n",
       "      <td>1.000</td>\n",
       "      <td>2.00</td>\n",
       "      <td>3.0</td>\n",
       "    </tr>\n",
       "    <tr>\n",
       "      <th>Time_Spent</th>\n",
       "      <td>65849.0</td>\n",
       "      <td>598.906225</td>\n",
       "      <td>277.847649</td>\n",
       "      <td>120.000</td>\n",
       "      <td>358.000</td>\n",
       "      <td>598.000</td>\n",
       "      <td>840.00</td>\n",
       "      <td>1080.0</td>\n",
       "    </tr>\n",
       "    <tr>\n",
       "      <th>Browser</th>\n",
       "      <td>65852.0</td>\n",
       "      <td>0.630839</td>\n",
       "      <td>0.996308</td>\n",
       "      <td>0.000</td>\n",
       "      <td>0.000</td>\n",
       "      <td>0.000</td>\n",
       "      <td>1.00</td>\n",
       "      <td>3.0</td>\n",
       "    </tr>\n",
       "    <tr>\n",
       "      <th>Newsletter</th>\n",
       "      <td>65844.0</td>\n",
       "      <td>0.150948</td>\n",
       "      <td>0.358001</td>\n",
       "      <td>0.000</td>\n",
       "      <td>0.000</td>\n",
       "      <td>0.000</td>\n",
       "      <td>0.00</td>\n",
       "      <td>1.0</td>\n",
       "    </tr>\n",
       "    <tr>\n",
       "      <th>Voucher</th>\n",
       "      <td>65850.0</td>\n",
       "      <td>0.250311</td>\n",
       "      <td>0.433196</td>\n",
       "      <td>0.000</td>\n",
       "      <td>0.000</td>\n",
       "      <td>0.000</td>\n",
       "      <td>1.00</td>\n",
       "      <td>1.0</td>\n",
       "    </tr>\n",
       "  </tbody>\n",
       "</table>\n",
       "</div>"
      ],
      "text/plain": [
       "                  count           mean           std         min         25%  \\\n",
       "Customer_id     65853.0  537203.550529  18993.604793  504308.000  520755.000   \n",
       "Age             65850.0      39.590767     13.825623      16.000      28.000   \n",
       "Gender          65852.0       0.671506      0.469669       0.000       0.000   \n",
       "Revenue_Total   65853.0      27.734806     14.941188       0.500      15.300   \n",
       "N_Purchases     65847.0       3.992559      2.004355       1.000       2.000   \n",
       "Purchase_VALUE  65849.0      15.969669     13.229682       0.005       4.823   \n",
       "Pay_Method      65850.0       1.308702      1.081928       0.000       0.000   \n",
       "Time_Spent      65849.0     598.906225    277.847649     120.000     358.000   \n",
       "Browser         65852.0       0.630839      0.996308       0.000       0.000   \n",
       "Newsletter      65844.0       0.150948      0.358001       0.000       0.000   \n",
       "Voucher         65850.0       0.250311      0.433196       0.000       0.000   \n",
       "\n",
       "                       50%        75%       max  \n",
       "Customer_id     537203.000  553652.00  570103.0  \n",
       "Age                 40.000      51.00      63.0  \n",
       "Gender               1.000       1.00       1.0  \n",
       "Revenue_Total       30.100      37.60      59.9  \n",
       "N_Purchases          4.000       6.00       7.0  \n",
       "Purchase_VALUE      12.642      24.75      59.9  \n",
       "Pay_Method           1.000       2.00       3.0  \n",
       "Time_Spent         598.000     840.00    1080.0  \n",
       "Browser              0.000       1.00       3.0  \n",
       "Newsletter           0.000       0.00       1.0  \n",
       "Voucher              0.000       1.00       1.0  "
      ]
     },
     "execution_count": 193,
     "metadata": {},
     "output_type": "execute_result"
    }
   ],
   "source": [
    "df.describe().T"
   ]
  },
  {
   "cell_type": "code",
   "execution_count": 194,
   "metadata": {},
   "outputs": [
    {
     "data": {
      "text/plain": [
       "Customer_id        9\n",
       "Age               12\n",
       "Gender            10\n",
       "Revenue_Total      9\n",
       "N_Purchases       15\n",
       "Purchase_DATE     19\n",
       "Purchase_VALUE    13\n",
       "Pay_Method        12\n",
       "Time_Spent        13\n",
       "Browser           10\n",
       "Newsletter        18\n",
       "Voucher           12\n",
       "dtype: int64"
      ]
     },
     "execution_count": 194,
     "metadata": {},
     "output_type": "execute_result"
    }
   ],
   "source": [
    "# Checking null values\n",
    "df.isna().sum()"
   ]
  },
  {
   "cell_type": "code",
   "execution_count": 195,
   "metadata": {},
   "outputs": [],
   "source": [
    "# Drop rows with any missing value\n",
    "df = df.dropna()"
   ]
  },
  {
   "cell_type": "code",
   "execution_count": 196,
   "metadata": {},
   "outputs": [
    {
     "data": {
      "text/plain": [
       "Customer_id       0\n",
       "Age               0\n",
       "Gender            0\n",
       "Revenue_Total     0\n",
       "N_Purchases       0\n",
       "Purchase_DATE     0\n",
       "Purchase_VALUE    0\n",
       "Pay_Method        0\n",
       "Time_Spent        0\n",
       "Browser           0\n",
       "Newsletter        0\n",
       "Voucher           0\n",
       "dtype: int64"
      ]
     },
     "execution_count": 196,
     "metadata": {},
     "output_type": "execute_result"
    }
   ],
   "source": [
    "# Checking null values\n",
    "df.isna().sum()"
   ]
  },
  {
   "cell_type": "code",
   "execution_count": 197,
   "metadata": {},
   "outputs": [
    {
     "data": {
      "text/plain": [
       "66"
      ]
     },
     "execution_count": 197,
     "metadata": {},
     "output_type": "execute_result"
    }
   ],
   "source": [
    "df.duplicated().sum()"
   ]
  },
  {
   "cell_type": "code",
   "execution_count": 198,
   "metadata": {},
   "outputs": [
    {
     "name": "stdout",
     "output_type": "stream",
     "text": [
      "DataFrame shape befor  dropping duplicates: (65762, 12)\n",
      "DataFrame shape after dropping duplicates: (65696, 12)\n",
      "Number of Duplicated : 0\n"
     ]
    }
   ],
   "source": [
    "print(f\"DataFrame shape befor  dropping duplicates: {df.shape}\")\n",
    "# Drop duplicate rows\n",
    "df = df.drop_duplicates()\n",
    "print(f\"DataFrame shape after dropping duplicates: {df.shape}\")\n",
    "print(f\"Number of Duplicated : {df.duplicated().sum()}\")"
   ]
  },
  {
   "cell_type": "code",
   "execution_count": 199,
   "metadata": {},
   "outputs": [
    {
     "name": "stdout",
     "output_type": "stream",
     "text": [
      "       Customer_id   Age  Gender  Revenue_Total  N_Purchases Purchase_DATE  \\\n",
      "63186     567494.0  53.0     0.0           34.6          7.0      14.01.21   \n",
      "59879     564187.0  17.0     1.0           32.1          3.0      02.03.21   \n",
      "54359     558667.0  44.0     1.0           41.3          7.0      24.05.21   \n",
      "38254     542562.0  63.0     1.0           13.9          7.0      17.08.21   \n",
      "2289      506597.0  54.0     1.0           47.3          2.0      14.11.21   \n",
      "...            ...   ...     ...            ...          ...           ...   \n",
      "5754      510062.0  31.0     1.0           12.5          1.0      10.01.21   \n",
      "49314     553622.0  45.0     0.0           50.1          2.0      01.05.21   \n",
      "41364     545672.0  48.0     1.0           30.0          7.0      13.06.21   \n",
      "31870     536178.0  52.0     1.0           35.7          2.0      29.12.21   \n",
      "59674     563982.0  38.0     1.0           19.2          5.0      19.07.21   \n",
      "\n",
      "       Purchase_VALUE  Pay_Method  Time_Spent  Browser  Newsletter  Voucher  \n",
      "63186          14.532         2.0       271.0      0.0         0.0      0.0  \n",
      "59879          28.890         1.0       649.0      0.0         1.0      1.0  \n",
      "54359          38.822         2.0       491.0      3.0         1.0      0.0  \n",
      "38254          11.954         2.0       451.0      0.0         0.0      0.0  \n",
      "2289           24.596         1.0       212.0      0.0         0.0      0.0  \n",
      "...               ...         ...         ...      ...         ...      ...  \n",
      "5754           12.500         0.0       580.0      3.0         0.0      0.0  \n",
      "49314           7.515         0.0       263.0      0.0         1.0      0.0  \n",
      "41364          24.600         1.0       323.0      1.0         0.0      0.0  \n",
      "31870          22.491         1.0      1077.0      0.0         1.0      0.0  \n",
      "59674           2.496         3.0       792.0      1.0         0.0      0.0  \n",
      "\n",
      "[6569 rows x 12 columns]\n"
     ]
    }
   ],
   "source": [
    "# Random sampling\n",
    "\n",
    "proportion_sample = 0.1\n",
    "\n",
    "# Calculate the sample size based on the proportion\n",
    "sample_size = int(len(df) * proportion_sample)\n",
    "\n",
    "# Perform random sampling based on the sample size\n",
    "sample = df.sample(n=sample_size, random_state=0)\n",
    "\n",
    "# Display the sample\n",
    "print(sample)"
   ]
  },
  {
   "cell_type": "code",
   "execution_count": 200,
   "metadata": {},
   "outputs": [],
   "source": [
    "# Drop Customer_id\n",
    "df.drop('Customer_id', axis = 1, inplace = True)\n",
    "\n",
    "# Splitting the date into month and year\n",
    "df['day']= df['Purchase_DATE'].str.split('.').str[0]\n",
    "df['month'] = df['Purchase_DATE'].str.split('.').str[1]\n",
    "df['year'] = df['Purchase_DATE'].str.split('.').str[2]\n",
    "\n",
    "df['year'] = df['year'].astype(int)\n",
    "df['month'] = df['month'].astype(int)\n",
    "\n",
    "# Drop Purchase_DATE\n",
    "df.drop('Purchase_DATE', axis = 1, inplace = True)"
   ]
  },
  {
   "cell_type": "code",
   "execution_count": 201,
   "metadata": {},
   "outputs": [
    {
     "data": {
      "text/html": [
       "<div>\n",
       "<style scoped>\n",
       "    .dataframe tbody tr th:only-of-type {\n",
       "        vertical-align: middle;\n",
       "    }\n",
       "\n",
       "    .dataframe tbody tr th {\n",
       "        vertical-align: top;\n",
       "    }\n",
       "\n",
       "    .dataframe thead th {\n",
       "        text-align: right;\n",
       "    }\n",
       "</style>\n",
       "<table border=\"1\" class=\"dataframe\">\n",
       "  <thead>\n",
       "    <tr style=\"text-align: right;\">\n",
       "      <th></th>\n",
       "      <th>Age</th>\n",
       "      <th>Gender</th>\n",
       "      <th>Revenue_Total</th>\n",
       "      <th>N_Purchases</th>\n",
       "      <th>Purchase_VALUE</th>\n",
       "      <th>Pay_Method</th>\n",
       "      <th>Time_Spent</th>\n",
       "      <th>Browser</th>\n",
       "      <th>Newsletter</th>\n",
       "      <th>Voucher</th>\n",
       "      <th>day</th>\n",
       "      <th>month</th>\n",
       "      <th>year</th>\n",
       "    </tr>\n",
       "  </thead>\n",
       "  <tbody>\n",
       "    <tr>\n",
       "      <th>0</th>\n",
       "      <td>53.0</td>\n",
       "      <td>0.0</td>\n",
       "      <td>45.3</td>\n",
       "      <td>2.0</td>\n",
       "      <td>24.915</td>\n",
       "      <td>1.0</td>\n",
       "      <td>885.0</td>\n",
       "      <td>0.0</td>\n",
       "      <td>0.0</td>\n",
       "      <td>0.0</td>\n",
       "      <td>22</td>\n",
       "      <td>6</td>\n",
       "      <td>21</td>\n",
       "    </tr>\n",
       "    <tr>\n",
       "      <th>1</th>\n",
       "      <td>18.0</td>\n",
       "      <td>1.0</td>\n",
       "      <td>36.2</td>\n",
       "      <td>3.0</td>\n",
       "      <td>2.896</td>\n",
       "      <td>2.0</td>\n",
       "      <td>656.0</td>\n",
       "      <td>0.0</td>\n",
       "      <td>0.0</td>\n",
       "      <td>1.0</td>\n",
       "      <td>10</td>\n",
       "      <td>12</td>\n",
       "      <td>21</td>\n",
       "    </tr>\n",
       "    <tr>\n",
       "      <th>2</th>\n",
       "      <td>52.0</td>\n",
       "      <td>1.0</td>\n",
       "      <td>10.6</td>\n",
       "      <td>1.0</td>\n",
       "      <td>10.600</td>\n",
       "      <td>0.0</td>\n",
       "      <td>761.0</td>\n",
       "      <td>0.0</td>\n",
       "      <td>1.0</td>\n",
       "      <td>0.0</td>\n",
       "      <td>14</td>\n",
       "      <td>3</td>\n",
       "      <td>21</td>\n",
       "    </tr>\n",
       "    <tr>\n",
       "      <th>3</th>\n",
       "      <td>29.0</td>\n",
       "      <td>0.0</td>\n",
       "      <td>54.1</td>\n",
       "      <td>5.0</td>\n",
       "      <td>43.280</td>\n",
       "      <td>1.0</td>\n",
       "      <td>906.0</td>\n",
       "      <td>0.0</td>\n",
       "      <td>1.0</td>\n",
       "      <td>0.0</td>\n",
       "      <td>25</td>\n",
       "      <td>10</td>\n",
       "      <td>21</td>\n",
       "    </tr>\n",
       "    <tr>\n",
       "      <th>4</th>\n",
       "      <td>21.0</td>\n",
       "      <td>1.0</td>\n",
       "      <td>56.9</td>\n",
       "      <td>1.0</td>\n",
       "      <td>56.900</td>\n",
       "      <td>1.0</td>\n",
       "      <td>605.0</td>\n",
       "      <td>0.0</td>\n",
       "      <td>1.0</td>\n",
       "      <td>0.0</td>\n",
       "      <td>14</td>\n",
       "      <td>9</td>\n",
       "      <td>21</td>\n",
       "    </tr>\n",
       "  </tbody>\n",
       "</table>\n",
       "</div>"
      ],
      "text/plain": [
       "    Age  Gender  Revenue_Total  N_Purchases  Purchase_VALUE  Pay_Method  \\\n",
       "0  53.0     0.0           45.3          2.0          24.915         1.0   \n",
       "1  18.0     1.0           36.2          3.0           2.896         2.0   \n",
       "2  52.0     1.0           10.6          1.0          10.600         0.0   \n",
       "3  29.0     0.0           54.1          5.0          43.280         1.0   \n",
       "4  21.0     1.0           56.9          1.0          56.900         1.0   \n",
       "\n",
       "   Time_Spent  Browser  Newsletter  Voucher day  month  year  \n",
       "0       885.0      0.0         0.0      0.0  22      6    21  \n",
       "1       656.0      0.0         0.0      1.0  10     12    21  \n",
       "2       761.0      0.0         1.0      0.0  14      3    21  \n",
       "3       906.0      0.0         1.0      0.0  25     10    21  \n",
       "4       605.0      0.0         1.0      0.0  14      9    21  "
      ]
     },
     "execution_count": 201,
     "metadata": {},
     "output_type": "execute_result"
    }
   ],
   "source": [
    "df.head()"
   ]
  },
  {
   "cell_type": "markdown",
   "metadata": {},
   "source": [
    "### ❓ 1. What are the outlier of total revenue and the Purchase value"
   ]
  },
  {
   "cell_type": "markdown",
   "metadata": {},
   "source": [
    "### 🔎 Boxplot for Identifying and excluding outliers"
   ]
  },
  {
   "cell_type": "code",
   "execution_count": 202,
   "metadata": {},
   "outputs": [
    {
     "data": {
      "image/png": "[encoded data removed]",
      "text/plain": [
       "<Figure size 640x480 with 1 Axes>"
      ]
     },
     "metadata": {},
     "output_type": "display_data"
    }
   ],
   "source": [
    "# Create the boxplot\n",
    "sns.boxplot(data = df[['Revenue_Total', 'Purchase_VALUE']], palette = 'cool')\n",
    "\n",
    "# Set the title/labels\n",
    "plt.title('Boxplot of Revenue Total and Purchase Value')\n",
    "plt.xlabel('Features')\n",
    "plt.ylabel('Values')\n",
    "\n",
    "plt.show()"
   ]
  },
  {
   "cell_type": "markdown",
   "metadata": {},
   "source": [
    "    From this graph, The insights are the following:\n",
    "    - The distribution of values ​​in both 'Revenue_Total' and 'Purchase_VALUE' and how far the data reaches.\n",
    "    - The mean value for the total revenue is 30 while the mean of the last purchase is 16\n",
    "    - The standard deviation of the total revenue spent is 15 while for the last purchase is 13\n",
    "    - Identify the presence of outliers that fall outside the range of the whiskers.\n",
    "    - Note that 'Revenue_Total' has a wide range with logical outliers, while 'Purchase_VALUE' has more outliers.\n",
    "    - This links me in making a decision about the outliers whether to remove them or completely."
   ]
  },
  {
   "cell_type": "markdown",
   "metadata": {},
   "source": [
    "----------------------"
   ]
  },
  {
   "cell_type": "markdown",
   "metadata": {},
   "source": [
    "### ❓ 2.which method of payment is common?"
   ]
  },
  {
   "cell_type": "markdown",
   "metadata": {},
   "source": [
    "### 🌳 payment methods treemap"
   ]
  },
  {
   "cell_type": "code",
   "execution_count": 203,
   "metadata": {},
   "outputs": [
    {
     "data": {
      "text/html": [
       "<div>\n",
       "<style scoped>\n",
       "    .dataframe tbody tr th:only-of-type {\n",
       "        vertical-align: middle;\n",
       "    }\n",
       "\n",
       "    .dataframe tbody tr th {\n",
       "        vertical-align: top;\n",
       "    }\n",
       "\n",
       "    .dataframe thead th {\n",
       "        text-align: right;\n",
       "    }\n",
       "</style>\n",
       "<table border=\"1\" class=\"dataframe\">\n",
       "  <thead>\n",
       "    <tr style=\"text-align: right;\">\n",
       "      <th></th>\n",
       "      <th>Pay_Method</th>\n",
       "      <th>Count</th>\n",
       "    </tr>\n",
       "  </thead>\n",
       "  <tbody>\n",
       "    <tr>\n",
       "      <th>0</th>\n",
       "      <td>Card</td>\n",
       "      <td>19725</td>\n",
       "    </tr>\n",
       "    <tr>\n",
       "      <th>1</th>\n",
       "      <td>Digital</td>\n",
       "      <td>19046</td>\n",
       "    </tr>\n",
       "    <tr>\n",
       "      <th>2</th>\n",
       "      <td>Other</td>\n",
       "      <td>12398</td>\n",
       "    </tr>\n",
       "    <tr>\n",
       "      <th>3</th>\n",
       "      <td>PayPal</td>\n",
       "      <td>14527</td>\n",
       "    </tr>\n",
       "  </tbody>\n",
       "</table>\n",
       "</div>"
      ],
      "text/plain": [
       "  Pay_Method  Count\n",
       "0       Card  19725\n",
       "1    Digital  19046\n",
       "2      Other  12398\n",
       "3     PayPal  14527"
      ]
     },
     "execution_count": 203,
     "metadata": {},
     "output_type": "execute_result"
    }
   ],
   "source": [
    "payment_method_mapping = {\n",
    "    0: 'Digital',\n",
    "    1: 'Card',\n",
    "    2: 'PayPal',\n",
    "    3: 'Other'\n",
    "}\n",
    "## NOTE: The map() function replaces the numeric values in the Pay_Method column with the corresponding values from the dictionary.\n",
    "df['Pay_Method']=df['Pay_Method'].map(payment_method_mapping)\n",
    "payment_count = df.groupby('Pay_Method').size().reset_index(name='Count')\n",
    "payment_count"
   ]
  },
  {
   "cell_type": "code",
   "execution_count": 204,
   "metadata": {},
   "outputs": [
    {
     "data": {
      "image/png": "[encoded data removed]",
      "text/plain": [
       "<Figure size 640x480 with 1 Axes>"
      ]
     },
     "metadata": {},
     "output_type": "display_data"
    }
   ],
   "source": [
    "\n",
    "colors = ['#4E79A7', '#F28E2B', '#E15759', '#76B7B2']\n",
    "squarify.plot(sizes=payment_count['Count'],label=payment_count['Pay_Method'], alpha=0.99, color= colors)\n",
    "plt.axis('off')\n",
    "plt.title('Payment Method Treemap')\n",
    "plt.show()"
   ]
  },
  {
   "cell_type": "markdown",
   "metadata": {},
   "source": [
    "### Insight:\n",
    "    From the graph, the two most common payment methods are Digital wallets and cards. The website can increase \n",
    "    partnerships with digital companies to leverage this trend. so the digital companies can market to the websites by \n",
    "    making offers for the website products to the card users."
   ]
  },
  {
   "cell_type": "markdown",
   "metadata": {},
   "source": [
    "------------------------"
   ]
  },
  {
   "cell_type": "markdown",
   "metadata": {},
   "source": [
    "### ❓ 3. What is the relationship between the age and the number of purchases?"
   ]
  },
  {
   "cell_type": "markdown",
   "metadata": {},
   "source": [
    "### ✨ Age-revenue Scatter plot"
   ]
  },
  {
   "cell_type": "code",
   "execution_count": 205,
   "metadata": {},
   "outputs": [
    {
     "data": {
      "text/plain": [
       "Text(0, 0.5, 'Average N_Purchases')"
      ]
     },
     "execution_count": 205,
     "metadata": {},
     "output_type": "execute_result"
    },
    {
     "data": {
      "image/png": "[encoded data removed]",
      "text/plain": [
       "<Figure size 640x480 with 1 Axes>"
      ]
     },
     "metadata": {},
     "output_type": "display_data"
    }
   ],
   "source": [
    "grouped_data = df.groupby('Age')['N_Purchases'].mean().reset_index()\n",
    "sns.regplot(x='Age', y='N_Purchases', data=grouped_data, scatter_kws={'alpha':0.5 , 'color': 'black'}, line_kws={'color':'red'})\n",
    "plt.title('Scatter Plot for Age vs Average N_Purchases')\n",
    "plt.xlabel('Age')\n",
    "plt.ylabel('Average N_Purchases')"
   ]
  },
  {
   "cell_type": "markdown",
   "metadata": {},
   "source": [
    "### Insights:\n",
    "    From the red line,  there is a slight negative relationship between age and the average number of purchases.\n",
    "    People aged 20 to 40 tend to make more purchases. For this age group, special offers can be provided on \n",
    "    the websites and promotions to further increase their purchases. More products can be offered to this age range.Additionally, the reasons \n",
    "    can be analyzed behind the decline in purchasing activity as age increases."
   ]
  },
  {
   "cell_type": "markdown",
   "metadata": {},
   "source": [
    "---------------------------------"
   ]
  },
  {
   "cell_type": "markdown",
   "metadata": {},
   "source": [
    "### ❓ 4.What is the Flow of Revenue Total Through the Year?"
   ]
  },
  {
   "cell_type": "markdown",
   "metadata": {},
   "source": [
    "### ⏰ bar chart monthly revenue"
   ]
  },
  {
   "cell_type": "code",
   "execution_count": 206,
   "metadata": {},
   "outputs": [
    {
     "data": {
      "text/html": [
       "<div>\n",
       "<style scoped>\n",
       "    .dataframe tbody tr th:only-of-type {\n",
       "        vertical-align: middle;\n",
       "    }\n",
       "\n",
       "    .dataframe tbody tr th {\n",
       "        vertical-align: top;\n",
       "    }\n",
       "\n",
       "    .dataframe thead th {\n",
       "        text-align: right;\n",
       "    }\n",
       "</style>\n",
       "<table border=\"1\" class=\"dataframe\">\n",
       "  <thead>\n",
       "    <tr style=\"text-align: right;\">\n",
       "      <th></th>\n",
       "      <th>Month</th>\n",
       "      <th>Revenue_Total</th>\n",
       "    </tr>\n",
       "  </thead>\n",
       "  <tbody>\n",
       "    <tr>\n",
       "      <th>4</th>\n",
       "      <td>January</td>\n",
       "      <td>159606.1</td>\n",
       "    </tr>\n",
       "    <tr>\n",
       "      <th>3</th>\n",
       "      <td>February</td>\n",
       "      <td>137765.2</td>\n",
       "    </tr>\n",
       "    <tr>\n",
       "      <th>7</th>\n",
       "      <td>March</td>\n",
       "      <td>152887.1</td>\n",
       "    </tr>\n",
       "    <tr>\n",
       "      <th>0</th>\n",
       "      <td>April</td>\n",
       "      <td>150386.4</td>\n",
       "    </tr>\n",
       "    <tr>\n",
       "      <th>8</th>\n",
       "      <td>May</td>\n",
       "      <td>153928.0</td>\n",
       "    </tr>\n",
       "    <tr>\n",
       "      <th>6</th>\n",
       "      <td>June</td>\n",
       "      <td>149857.8</td>\n",
       "    </tr>\n",
       "    <tr>\n",
       "      <th>5</th>\n",
       "      <td>July</td>\n",
       "      <td>151356.1</td>\n",
       "    </tr>\n",
       "    <tr>\n",
       "      <th>1</th>\n",
       "      <td>August</td>\n",
       "      <td>154624.8</td>\n",
       "    </tr>\n",
       "    <tr>\n",
       "      <th>10</th>\n",
       "      <td>October</td>\n",
       "      <td>155172.7</td>\n",
       "    </tr>\n",
       "    <tr>\n",
       "      <th>9</th>\n",
       "      <td>November</td>\n",
       "      <td>147794.1</td>\n",
       "    </tr>\n",
       "    <tr>\n",
       "      <th>2</th>\n",
       "      <td>December</td>\n",
       "      <td>157206.5</td>\n",
       "    </tr>\n",
       "  </tbody>\n",
       "</table>\n",
       "</div>"
      ],
      "text/plain": [
       "       Month  Revenue_Total\n",
       "4    January       159606.1\n",
       "3   February       137765.2\n",
       "7      March       152887.1\n",
       "0      April       150386.4\n",
       "8        May       153928.0\n",
       "6       June       149857.8\n",
       "5       July       151356.1\n",
       "1     August       154624.8\n",
       "10   October       155172.7\n",
       "9   November       147794.1\n",
       "2   December       157206.5"
      ]
     },
     "execution_count": 206,
     "metadata": {},
     "output_type": "execute_result"
    }
   ],
   "source": [
    "months_mapping ={\n",
    "    1: 'January',\n",
    "    2: 'February',\n",
    "    3: 'March',\n",
    "    4: 'April',\n",
    "    5: 'May',\n",
    "    6: 'June',\n",
    "    7: 'July',\n",
    "    8: 'August',\n",
    "    9: 'Septemper',\n",
    "    10: 'October',\n",
    "    11: 'November',\n",
    "    12: 'December'\n",
    "}\n",
    "df['Month']= df[\"month\"].map(months_mapping)\n",
    "month_order = {\n",
    "    'January': 1, 'February': 2, 'March': 3, 'April': 4, 'May': 5,\n",
    "    'June': 6, 'July': 7, 'August': 8, 'September': 9,\n",
    "    'October': 10, 'November': 11, 'December': 12\n",
    "}\n",
    "df['Month_Order'] = df['Month'].map(month_order)\n",
    "grouped_months = df.groupby(['Month', 'Month_Order'])['Revenue_Total'].sum().reset_index()\n",
    "grouped_months = grouped_months.sort_values('Month_Order').drop(columns=['Month_Order'])\n",
    "grouped_months"
   ]
  },
  {
   "cell_type": "code",
   "execution_count": 207,
   "metadata": {},
   "outputs": [
    {
     "data": {
      "text/plain": [
       "Text(0, 0.5, 'Revenue Total')"
      ]
     },
     "execution_count": 207,
     "metadata": {},
     "output_type": "execute_result"
    },
    {
     "data": {
      "image/png": "[encoded data removed]",
      "text/plain": [
       "<Figure size 640x480 with 1 Axes>"
      ]
     },
     "metadata": {},
     "output_type": "display_data"
    }
   ],
   "source": [
    "sns.barplot(x='Month', y='Revenue_Total',hue='Month', data=grouped_months, palette='coolwarm')\n",
    "plt.xticks(rotation=45, ha='right') \n",
    "plt.title('Total Revenue by Month')\n",
    "plt.xlabel('Month')\n",
    "plt.ylabel('Revenue Total')"
   ]
  },
  {
   "cell_type": "markdown",
   "metadata": {},
   "source": [
    "### Insights:\n",
    "    The graph shows that January and December are the months with the highest purchasing activity, while February has the lowest.\n",
    "    This may be due to holidays, discounts, and offers in January and December, which increase purchases.\n",
    "    In contrast, February may mark the end of holiday periods.\n",
    "    To address this, the website can make promotions and offers during February to boost purchasing activity."
   ]
  },
  {
   "cell_type": "markdown",
   "metadata": {},
   "source": [
    "----------------------------------"
   ]
  },
  {
   "cell_type": "markdown",
   "metadata": {},
   "source": [
    "### ❓ 5.Which category (subscribed or not subscribed) uses more vouchers?\n"
   ]
  },
  {
   "cell_type": "markdown",
   "metadata": {},
   "source": [
    "### 🎟️ Subscribtion and voucher barplot"
   ]
  },
  {
   "cell_type": "code",
   "execution_count": 208,
   "metadata": {},
   "outputs": [
    {
     "data": {
      "text/html": [
       "<div>\n",
       "<style scoped>\n",
       "    .dataframe tbody tr th:only-of-type {\n",
       "        vertical-align: middle;\n",
       "    }\n",
       "\n",
       "    .dataframe tbody tr th {\n",
       "        vertical-align: top;\n",
       "    }\n",
       "\n",
       "    .dataframe thead th {\n",
       "        text-align: right;\n",
       "    }\n",
       "</style>\n",
       "<table border=\"1\" class=\"dataframe\">\n",
       "  <thead>\n",
       "    <tr style=\"text-align: right;\">\n",
       "      <th></th>\n",
       "      <th>Newsletter</th>\n",
       "      <th>Voucher</th>\n",
       "    </tr>\n",
       "  </thead>\n",
       "  <tbody>\n",
       "    <tr>\n",
       "      <th>0</th>\n",
       "      <td>Not Subscribed</td>\n",
       "      <td>13914.0</td>\n",
       "    </tr>\n",
       "    <tr>\n",
       "      <th>1</th>\n",
       "      <td>Subscribed</td>\n",
       "      <td>2527.0</td>\n",
       "    </tr>\n",
       "  </tbody>\n",
       "</table>\n",
       "</div>"
      ],
      "text/plain": [
       "       Newsletter  Voucher\n",
       "0  Not Subscribed  13914.0\n",
       "1      Subscribed   2527.0"
      ]
     },
     "execution_count": 208,
     "metadata": {},
     "output_type": "execute_result"
    }
   ],
   "source": [
    "Newsletter_mapping = {\n",
    "    0: 'Not Subscribed',\n",
    "    1: 'Subscribed'\n",
    "}\n",
    "df['Newsletter']= df['Newsletter'].map(Newsletter_mapping)\n",
    "Subscribtion=df.groupby('Newsletter')['Voucher'].sum().reset_index()\n",
    "Subscribtion\n",
    "#voucher_Usage = df.groupby('Voucher').size().reset_index(name=\"Count\")\n",
    "\n"
   ]
  },
  {
   "cell_type": "code",
   "execution_count": 209,
   "metadata": {},
   "outputs": [
    {
     "data": {
      "text/plain": [
       "Text(0, 0.5, 'Vouchers used')"
      ]
     },
     "execution_count": 209,
     "metadata": {},
     "output_type": "execute_result"
    },
    {
     "data": {
      "image/png": "[encoded data removed]",
      "text/plain": [
       "<Figure size 640x480 with 1 Axes>"
      ]
     },
     "metadata": {},
     "output_type": "display_data"
    }
   ],
   "source": [
    "sns.barplot(x='Newsletter', y='Voucher',hue='Newsletter', data= Subscribtion, palette='viridis')\n",
    "plt.title('Subscribes vs Vouchers barplot')\n",
    "plt.xlabel('Subscribtion')\n",
    "plt.ylabel('Vouchers used')"
   ]
  },
  {
   "cell_type": "markdown",
   "metadata": {},
   "source": [
    "### Insights:\n",
    "    From this graph not subscribed category is higher in using vouchers so the website can provide a \n",
    "    limited number of vouchers that can be used for the not subscribed users.Another decision can be made as a \n",
    "    Highly likely hypothesis that these users just use vouchers for the website and not subscribing so the website \n",
    "    can make vouchers only for the subscribing users."
   ]
  },
  {
   "cell_type": "markdown",
   "metadata": {},
   "source": [
    "-----------------------------------------------------------------------"
   ]
  },
  {
   "cell_type": "markdown",
   "metadata": {},
   "source": [
    "### ❓ 6. What is The Most Browser Used To Acess the Website?"
   ]
  },
  {
   "cell_type": "markdown",
   "metadata": {},
   "source": [
    "### 🥧 Pie Chart of Percentage of each Browser used"
   ]
  },
  {
   "cell_type": "code",
   "execution_count": 228,
   "metadata": {},
   "outputs": [
    {
     "data": {
      "image/png": "[encoded data removed]",
      "text/plain": [
       "<Figure size 640x480 with 1 Axes>"
      ]
     },
     "metadata": {},
     "output_type": "display_data"
    }
   ],
   "source": [
    "labels = ['Chrome', 'Safari', 'Other', 'Edge']\n",
    "element = df['Browser'].value_counts()  \n",
    "colors = ['blue', 'green', 'gray', 'orange'] \n",
    "\n",
    "# Define explode values\n",
    "explode = (0.1, 0, 0.2, 0.1)  # Chrome, Safari, Other, Edge\n",
    "\n",
    "plt.pie(\n",
    "    element,\n",
    "    labels=labels,\n",
    "    explode=explode,\n",
    "    colors=colors,\n",
    "    startangle=90,\n",
    "    shadow=True,\n",
    "    autopct='%1.1f%%'\n",
    ")\n",
    "plt.title(\"Browser Usage Percentage\")\n",
    "plt.show()"
   ]
  },
  {
   "cell_type": "markdown",
   "metadata": {},
   "source": [
    "### Insights:\n",
    "     Chrome is the dominant browser for the users.so the site can make more advertisements as it can make the most effect on Chrome users and other Google-related applications. \n"
   ]
  },
  {
   "cell_type": "markdown",
   "metadata": {},
   "source": [
    "--------------------------------------"
   ]
  },
  {
   "cell_type": "markdown",
   "metadata": {},
   "source": [
    "### ❓ 7.Which Age Range Has the Highest Revenue Total?"
   ]
  },
  {
   "cell_type": "markdown",
   "metadata": {},
   "source": [
    "### 🌳 Treemap of Revenue Total of each Age Category"
   ]
  },
  {
   "cell_type": "code",
   "execution_count": 211,
   "metadata": {},
   "outputs": [
    {
     "data": {
      "text/plain": [
       "(0.0, 100.0, 0.0, 100.0)"
      ]
     },
     "execution_count": 211,
     "metadata": {},
     "output_type": "execute_result"
    },
    {
     "data": {
      "image/png": "[encoded data removed]",
      "text/plain": [
       "<Figure size 640x480 with 1 Axes>"
      ]
     },
     "metadata": {},
     "output_type": "display_data"
    }
   ],
   "source": [
    "# at this graph cataorized age to 3 cateogry to show which one has more salary at website\n",
    "def range(age=df['Age']):\n",
    "    if 10 <= age <= 25:\n",
    "          return'young'\n",
    "    elif 26 <= age <= 40:\n",
    "          return 'adult'\n",
    "    elif 41<= age <= 70:\n",
    "         return 'old'\n",
    "    \n",
    "category=df[['Age','Revenue_Total']].copy()\n",
    "category['Category'] = category['Age'].apply(range)\n",
    "\n",
    "category=category.groupby('Category')['Revenue_Total'].sum().reset_index()\n",
    "category\n",
    "colors=['pink','brown','violet']\n",
    "squarify.plot(sizes=category['Revenue_Total'],label=category['Category'],alpha=0.8,color=colors, linewidth=1, edgecolor='black')\n",
    "\n",
    "\n",
    "\n",
    "plt.axis('off')\n"
   ]
  },
  {
   "cell_type": "markdown",
   "metadata": {},
   "source": [
    "### Insights:\n",
    "        From this graph, old age has the highest revenue total. so the site can make more offers and discounts to attract young age to increase the sales for the young. while continue focusing on the old age as it's clearly the targeted audience"
   ]
  },
  {
   "cell_type": "markdown",
   "metadata": {},
   "source": [
    "--------------"
   ]
  },
  {
   "cell_type": "markdown",
   "metadata": {},
   "source": [
    "### ❓ 8.Which age Range Spends The Most time Shopping at The Website?"
   ]
  },
  {
   "cell_type": "markdown",
   "metadata": {},
   "source": [
    "### 🌴 Treemap of Time Spent on the website for every Age Category"
   ]
  },
  {
   "cell_type": "code",
   "execution_count": 212,
   "metadata": {},
   "outputs": [
    {
     "data": {
      "text/plain": [
       "(0.0, 100.0, 0.0, 100.0)"
      ]
     },
     "execution_count": 212,
     "metadata": {},
     "output_type": "execute_result"
    },
    {
     "data": {
      "image/png": "[encoded data removed]",
      "text/plain": [
       "<Figure size 640x480 with 1 Axes>"
      ]
     },
     "metadata": {},
     "output_type": "display_data"
    }
   ],
   "source": [
    "# this graph represnt the time sprnding at web site\n",
    "# from the two previou graph we can deduce that when client spend more time at site he purchase more\n",
    "category=df[['Age','Time_Spent']].copy()\n",
    "category['Category'] = category['Age'].apply(range)\n",
    "\n",
    "category=category.groupby('Category')['Time_Spent'].sum().reset_index()\n",
    "category\n",
    "colors=['green','brown','blue']\n",
    "squarify.plot(sizes=category['Time_Spent'],label=category['Category'],alpha=0.8,color=colors, linewidth=1, edgecolor='black')\n",
    "\n",
    "\n",
    "\n",
    "plt.axis('off')\n"
   ]
  },
  {
   "cell_type": "markdown",
   "metadata": {},
   "source": [
    "### Insights:\n",
    "     So old age range is dominant in time spending and revenue total so the site can offer more products \n",
    "     for older ages to spend more time as more products can be bought."
   ]
  },
  {
   "cell_type": "markdown",
   "metadata": {},
   "source": [
    "---------------------"
   ]
  },
  {
   "cell_type": "markdown",
   "metadata": {},
   "source": [
    "### ❓ 9.What is The Percentage of Subscribed Users?"
   ]
  },
  {
   "cell_type": "markdown",
   "metadata": {},
   "source": [
    "### Pie Chart for the Percentage of Subscribtion to the website"
   ]
  },
  {
   "cell_type": "code",
   "execution_count": 229,
   "metadata": {},
   "outputs": [
    {
     "data": {
      "application/vnd.plotly.v1+json": {
       "config": {
        "plotlyServerURL": "https://plot.ly"
       },
       "data": [
        {
         "customdata": [
          [
           "not subscribed"
          ],
          [
           "subscribed"
          ]
         ],
         "domain": {
          "x": [
           0,
           1
          ],
          "y": [
           0,
           1
          ]
         },
         "hoverinfo": "label+percent+value",
         "hovertemplate": "Status=%{customdata[0]}<br>Count=%{value}<extra></extra>",
         "labels": [
          "not subscribed",
          "subscribed"
         ],
         "legendgroup": "",
         "marker": {
          "colors": [
           "skyblue",
           "violet"
          ]
         },
         "name": "",
         "pull": [
          0.1,
          0
         ],
         "showlegend": true,
         "textinfo": "percent",
         "type": "pie",
         "values": [
          55776,
          9920
         ]
        }
       ],
       "layout": {
        "legend": {
         "tracegroupgap": 0
        },
        "template": {
         "data": {
          "bar": [
           {
            "error_x": {
             "color": "#2a3f5f"
            },
            "error_y": {
             "color": "#2a3f5f"
            },
            "marker": {
             "line": {
              "color": "#E5ECF6",
              "width": 0.5
             },
             "pattern": {
              "fillmode": "overlay",
              "size": 10,
              "solidity": 0.2
             }
            },
            "type": "bar"
           }
          ],
          "barpolar": [
           {
            "marker": {
             "line": {
              "color": "#E5ECF6",
              "width": 0.5
             },
             "pattern": {
              "fillmode": "overlay",
              "size": 10,
              "solidity": 0.2
             }
            },
            "type": "barpolar"
           }
          ],
          "carpet": [
           {
            "aaxis": {
             "endlinecolor": "#2a3f5f",
             "gridcolor": "white",
             "linecolor": "white",
             "minorgridcolor": "white",
             "startlinecolor": "#2a3f5f"
            },
            "baxis": {
             "endlinecolor": "#2a3f5f",
             "gridcolor": "white",
             "linecolor": "white",
             "minorgridcolor": "white",
             "startlinecolor": "#2a3f5f"
            },
            "type": "carpet"
           }
          ],
          "choropleth": [
           {
            "colorbar": {
             "outlinewidth": 0,
             "ticks": ""
            },
            "type": "choropleth"
           }
          ],
          "contour": [
           {
            "colorbar": {
             "outlinewidth": 0,
             "ticks": ""
            },
            "colorscale": [
             [
              0,
              "#0d0887"
             ],
             [
              0.1111111111111111,
              "#46039f"
             ],
             [
              0.2222222222222222,
              "#7201a8"
             ],
             [
              0.3333333333333333,
              "#9c179e"
             ],
             [
              0.4444444444444444,
              "#bd3786"
             ],
             [
              0.5555555555555556,
              "#d8576b"
             ],
             [
              0.6666666666666666,
              "#ed7953"
             ],
             [
              0.7777777777777778,
              "#fb9f3a"
             ],
             [
              0.8888888888888888,
              "#fdca26"
             ],
             [
              1,
              "#f0f921"
             ]
            ],
            "type": "contour"
           }
          ],
          "contourcarpet": [
           {
            "colorbar": {
             "outlinewidth": 0,
             "ticks": ""
            },
            "type": "contourcarpet"
           }
          ],
          "heatmap": [
           {
            "colorbar": {
             "outlinewidth": 0,
             "ticks": ""
            },
            "colorscale": [
             [
              0,
              "#0d0887"
             ],
             [
              0.1111111111111111,
              "#46039f"
             ],
             [
              0.2222222222222222,
              "#7201a8"
             ],
             [
              0.3333333333333333,
              "#9c179e"
             ],
             [
              0.4444444444444444,
              "#bd3786"
             ],
             [
              0.5555555555555556,
              "#d8576b"
             ],
             [
              0.6666666666666666,
              "#ed7953"
             ],
             [
              0.7777777777777778,
              "#fb9f3a"
             ],
             [
              0.8888888888888888,
              "#fdca26"
             ],
             [
              1,
              "#f0f921"
             ]
            ],
            "type": "heatmap"
           }
          ],
          "heatmapgl": [
           {
            "colorbar": {
             "outlinewidth": 0,
             "ticks": ""
            },
            "colorscale": [
             [
              0,
              "#0d0887"
             ],
             [
              0.1111111111111111,
              "#46039f"
             ],
             [
              0.2222222222222222,
              "#7201a8"
             ],
             [
              0.3333333333333333,
              "#9c179e"
             ],
             [
              0.4444444444444444,
              "#bd3786"
             ],
             [
              0.5555555555555556,
              "#d8576b"
             ],
             [
              0.6666666666666666,
              "#ed7953"
             ],
             [
              0.7777777777777778,
              "#fb9f3a"
             ],
             [
              0.8888888888888888,
              "#fdca26"
             ],
             [
              1,
              "#f0f921"
             ]
            ],
            "type": "heatmapgl"
           }
          ],
          "histogram": [
           {
            "marker": {
             "pattern": {
              "fillmode": "overlay",
              "size": 10,
              "solidity": 0.2
             }
            },
            "type": "histogram"
           }
          ],
          "histogram2d": [
           {
            "colorbar": {
             "outlinewidth": 0,
             "ticks": ""
            },
            "colorscale": [
             [
              0,
              "#0d0887"
             ],
             [
              0.1111111111111111,
              "#46039f"
             ],
             [
              0.2222222222222222,
              "#7201a8"
             ],
             [
              0.3333333333333333,
              "#9c179e"
             ],
             [
              0.4444444444444444,
              "#bd3786"
             ],
             [
              0.5555555555555556,
              "#d8576b"
             ],
             [
              0.6666666666666666,
              "#ed7953"
             ],
             [
              0.7777777777777778,
              "#fb9f3a"
             ],
             [
              0.8888888888888888,
              "#fdca26"
             ],
             [
              1,
              "#f0f921"
             ]
            ],
            "type": "histogram2d"
           }
          ],
          "histogram2dcontour": [
           {
            "colorbar": {
             "outlinewidth": 0,
             "ticks": ""
            },
            "colorscale": [
             [
              0,
              "#0d0887"
             ],
             [
              0.1111111111111111,
              "#46039f"
             ],
             [
              0.2222222222222222,
              "#7201a8"
             ],
             [
              0.3333333333333333,
              "#9c179e"
             ],
             [
              0.4444444444444444,
              "#bd3786"
             ],
             [
              0.5555555555555556,
              "#d8576b"
             ],
             [
              0.6666666666666666,
              "#ed7953"
             ],
             [
              0.7777777777777778,
              "#fb9f3a"
             ],
             [
              0.8888888888888888,
              "#fdca26"
             ],
             [
              1,
              "#f0f921"
             ]
            ],
            "type": "histogram2dcontour"
           }
          ],
          "mesh3d": [
           {
            "colorbar": {
             "outlinewidth": 0,
             "ticks": ""
            },
            "type": "mesh3d"
           }
          ],
          "parcoords": [
           {
            "line": {
             "colorbar": {
              "outlinewidth": 0,
              "ticks": ""
             }
            },
            "type": "parcoords"
           }
          ],
          "pie": [
           {
            "automargin": true,
            "type": "pie"
           }
          ],
          "scatter": [
           {
            "fillpattern": {
             "fillmode": "overlay",
             "size": 10,
             "solidity": 0.2
            },
            "type": "scatter"
           }
          ],
          "scatter3d": [
           {
            "line": {
             "colorbar": {
              "outlinewidth": 0,
              "ticks": ""
             }
            },
            "marker": {
             "colorbar": {
              "outlinewidth": 0,
              "ticks": ""
             }
            },
            "type": "scatter3d"
           }
          ],
          "scattercarpet": [
           {
            "marker": {
             "colorbar": {
              "outlinewidth": 0,
              "ticks": ""
             }
            },
            "type": "scattercarpet"
           }
          ],
          "scattergeo": [
           {
            "marker": {
             "colorbar": {
              "outlinewidth": 0,
              "ticks": ""
             }
            },
            "type": "scattergeo"
           }
          ],
          "scattergl": [
           {
            "marker": {
             "colorbar": {
              "outlinewidth": 0,
              "ticks": ""
             }
            },
            "type": "scattergl"
           }
          ],
          "scattermapbox": [
           {
            "marker": {
             "colorbar": {
              "outlinewidth": 0,
              "ticks": ""
             }
            },
            "type": "scattermapbox"
           }
          ],
          "scatterpolar": [
           {
            "marker": {
             "colorbar": {
              "outlinewidth": 0,
              "ticks": ""
             }
            },
            "type": "scatterpolar"
           }
          ],
          "scatterpolargl": [
           {
            "marker": {
             "colorbar": {
              "outlinewidth": 0,
              "ticks": ""
             }
            },
            "type": "scatterpolargl"
           }
          ],
          "scatterternary": [
           {
            "marker": {
             "colorbar": {
              "outlinewidth": 0,
              "ticks": ""
             }
            },
            "type": "scatterternary"
           }
          ],
          "surface": [
           {
            "colorbar": {
             "outlinewidth": 0,
             "ticks": ""
            },
            "colorscale": [
             [
              0,
              "#0d0887"
             ],
             [
              0.1111111111111111,
              "#46039f"
             ],
             [
              0.2222222222222222,
              "#7201a8"
             ],
             [
              0.3333333333333333,
              "#9c179e"
             ],
             [
              0.4444444444444444,
              "#bd3786"
             ],
             [
              0.5555555555555556,
              "#d8576b"
             ],
             [
              0.6666666666666666,
              "#ed7953"
             ],
             [
              0.7777777777777778,
              "#fb9f3a"
             ],
             [
              0.8888888888888888,
              "#fdca26"
             ],
             [
              1,
              "#f0f921"
             ]
            ],
            "type": "surface"
           }
          ],
          "table": [
           {
            "cells": {
             "fill": {
              "color": "#EBF0F8"
             },
             "line": {
              "color": "white"
             }
            },
            "header": {
             "fill": {
              "color": "#C8D4E3"
             },
             "line": {
              "color": "white"
             }
            },
            "type": "table"
           }
          ]
         },
         "layout": {
          "annotationdefaults": {
           "arrowcolor": "#2a3f5f",
           "arrowhead": 0,
           "arrowwidth": 1
          },
          "autotypenumbers": "strict",
          "coloraxis": {
           "colorbar": {
            "outlinewidth": 0,
            "ticks": ""
           }
          },
          "colorscale": {
           "diverging": [
            [
             0,
             "#8e0152"
            ],
            [
             0.1,
             "#c51b7d"
            ],
            [
             0.2,
             "#de77ae"
            ],
            [
             0.3,
             "#f1b6da"
            ],
            [
             0.4,
             "#fde0ef"
            ],
            [
             0.5,
             "#f7f7f7"
            ],
            [
             0.6,
             "#e6f5d0"
            ],
            [
             0.7,
             "#b8e186"
            ],
            [
             0.8,
             "#7fbc41"
            ],
            [
             0.9,
             "#4d9221"
            ],
            [
             1,
             "#276419"
            ]
           ],
           "sequential": [
            [
             0,
             "#0d0887"
            ],
            [
             0.1111111111111111,
             "#46039f"
            ],
            [
             0.2222222222222222,
             "#7201a8"
            ],
            [
             0.3333333333333333,
             "#9c179e"
            ],
            [
             0.4444444444444444,
             "#bd3786"
            ],
            [
             0.5555555555555556,
             "#d8576b"
            ],
            [
             0.6666666666666666,
             "#ed7953"
            ],
            [
             0.7777777777777778,
             "#fb9f3a"
            ],
            [
             0.8888888888888888,
             "#fdca26"
            ],
            [
             1,
             "#f0f921"
            ]
           ],
           "sequentialminus": [
            [
             0,
             "#0d0887"
            ],
            [
             0.1111111111111111,
             "#46039f"
            ],
            [
             0.2222222222222222,
             "#7201a8"
            ],
            [
             0.3333333333333333,
             "#9c179e"
            ],
            [
             0.4444444444444444,
             "#bd3786"
            ],
            [
             0.5555555555555556,
             "#d8576b"
            ],
            [
             0.6666666666666666,
             "#ed7953"
            ],
            [
             0.7777777777777778,
             "#fb9f3a"
            ],
            [
             0.8888888888888888,
             "#fdca26"
            ],
            [
             1,
             "#f0f921"
            ]
           ]
          },
          "colorway": [
           "#636efa",
           "#EF553B",
           "#00cc96",
           "#ab63fa",
           "#FFA15A",
           "#19d3f3",
           "#FF6692",
           "#B6E880",
           "#FF97FF",
           "#FECB52"
          ],
          "font": {
           "color": "#2a3f5f"
          },
          "geo": {
           "bgcolor": "white",
           "lakecolor": "white",
           "landcolor": "#E5ECF6",
           "showlakes": true,
           "showland": true,
           "subunitcolor": "white"
          },
          "hoverlabel": {
           "align": "left"
          },
          "hovermode": "closest",
          "mapbox": {
           "style": "light"
          },
          "paper_bgcolor": "white",
          "plot_bgcolor": "#E5ECF6",
          "polar": {
           "angularaxis": {
            "gridcolor": "white",
            "linecolor": "white",
            "ticks": ""
           },
           "bgcolor": "#E5ECF6",
           "radialaxis": {
            "gridcolor": "white",
            "linecolor": "white",
            "ticks": ""
           }
          },
          "scene": {
           "xaxis": {
            "backgroundcolor": "#E5ECF6",
            "gridcolor": "white",
            "gridwidth": 2,
            "linecolor": "white",
            "showbackground": true,
            "ticks": "",
            "zerolinecolor": "white"
           },
           "yaxis": {
            "backgroundcolor": "#E5ECF6",
            "gridcolor": "white",
            "gridwidth": 2,
            "linecolor": "white",
            "showbackground": true,
            "ticks": "",
            "zerolinecolor": "white"
           },
           "zaxis": {
            "backgroundcolor": "#E5ECF6",
            "gridcolor": "white",
            "gridwidth": 2,
            "linecolor": "white",
            "showbackground": true,
            "ticks": "",
            "zerolinecolor": "white"
           }
          },
          "shapedefaults": {
           "line": {
            "color": "#2a3f5f"
           }
          },
          "ternary": {
           "aaxis": {
            "gridcolor": "white",
            "linecolor": "white",
            "ticks": ""
           },
           "baxis": {
            "gridcolor": "white",
            "linecolor": "white",
            "ticks": ""
           },
           "bgcolor": "#E5ECF6",
           "caxis": {
            "gridcolor": "white",
            "linecolor": "white",
            "ticks": ""
           }
          },
          "title": {
           "x": 0.05
          },
          "xaxis": {
           "automargin": true,
           "gridcolor": "white",
           "linecolor": "white",
           "ticks": "",
           "title": {
            "standoff": 15
           },
           "zerolinecolor": "white",
           "zerolinewidth": 2
          },
          "yaxis": {
           "automargin": true,
           "gridcolor": "white",
           "linecolor": "white",
           "ticks": "",
           "title": {
            "standoff": 15
           },
           "zerolinecolor": "white",
           "zerolinewidth": 2
          }
         }
        },
        "title": {
         "text": "Ratio Between Subscribed and New Clients"
        }
       }
      }
     },
     "metadata": {},
     "output_type": "display_data"
    }
   ],
   "source": [
    "import plotly.express as px\n",
    "import pandas as pd\n",
    "\n",
    "# Example data\n",
    "labels = [\"not subscribed\", \"subscribed\"]\n",
    "element = df[\"Newsletter\"].value_counts()  # Replace with your DataFrame data\n",
    "\n",
    "# Create a DataFrame for Plotly\n",
    "pie_data = pd.DataFrame({'Status': labels, 'Count': element})\n",
    "\n",
    "# Create an interactive pie chart\n",
    "fig = px.pie(\n",
    "    pie_data,\n",
    "    names='Status',  # Column with labels\n",
    "    values='Count',  # Column with values\n",
    "    color='Status',  # Optional: Color segments\n",
    "    color_discrete_map={'not subscribed': 'skyblue', 'subscribed': 'violet'},  # Custom colors\n",
    "    title=\"Ratio Between Subscribed and New Clients\"\n",
    ")\n",
    "\n",
    "# Customize hover information\n",
    "fig.update_traces(\n",
    "    hoverinfo='label+percent+value',  # Show label, percentage, and value on hover\n",
    "    textinfo='percent',              # Show percentage on the chart\n",
    "    pull=[0.1, 0]                    # Explode only the first slice\n",
    ")\n",
    "\n",
    "# Show the chart\n",
    "fig.show()\n"
   ]
  },
  {
   "cell_type": "markdown",
   "metadata": {},
   "source": [
    "### Insights:\n",
    "    This pie plot shows that the unsubscribed users have a greater percentage (84.9%) so the site can make discounts just for the \n",
    "    people who are subscribed to the newsletter which will increase the percentage of subscribers."
   ]
  },
  {
   "cell_type": "markdown",
   "metadata": {},
   "source": [
    "---------------------------"
   ]
  },
  {
   "cell_type": "markdown",
   "metadata": {},
   "source": [
    "### ❓ 10.Which Gender Has More Revenue Total (Spends the Most)?\n"
   ]
  },
  {
   "cell_type": "markdown",
   "metadata": {},
   "source": [
    "### 📊 Bar Chart of the Revenue total for each Gender"
   ]
  },
  {
   "cell_type": "code",
   "execution_count": 214,
   "metadata": {},
   "outputs": [
    {
     "data": {
      "text/html": [
       "<div>\n",
       "<style scoped>\n",
       "    .dataframe tbody tr th:only-of-type {\n",
       "        vertical-align: middle;\n",
       "    }\n",
       "\n",
       "    .dataframe tbody tr th {\n",
       "        vertical-align: top;\n",
       "    }\n",
       "\n",
       "    .dataframe thead th {\n",
       "        text-align: right;\n",
       "    }\n",
       "</style>\n",
       "<table border=\"1\" class=\"dataframe\">\n",
       "  <thead>\n",
       "    <tr style=\"text-align: right;\">\n",
       "      <th></th>\n",
       "      <th>Gender</th>\n",
       "      <th>Revenue_Total</th>\n",
       "    </tr>\n",
       "  </thead>\n",
       "  <tbody>\n",
       "    <tr>\n",
       "      <th>0</th>\n",
       "      <td>0.0</td>\n",
       "      <td>599529.9</td>\n",
       "    </tr>\n",
       "    <tr>\n",
       "      <th>1</th>\n",
       "      <td>1.0</td>\n",
       "      <td>1222509.8</td>\n",
       "    </tr>\n",
       "  </tbody>\n",
       "</table>\n",
       "</div>"
      ],
      "text/plain": [
       "   Gender  Revenue_Total\n",
       "0     0.0       599529.9\n",
       "1     1.0      1222509.8"
      ]
     },
     "execution_count": 214,
     "metadata": {},
     "output_type": "execute_result"
    }
   ],
   "source": [
    "gender_salary = df.groupby('Gender')['Revenue_Total'].sum().reset_index()\n",
    "n=pd.DataFrame(gender_salary)\n",
    "n.head()\n"
   ]
  },
  {
   "cell_type": "code",
   "execution_count": 215,
   "metadata": {},
   "outputs": [
    {
     "data": {
      "image/png": "[encoded data removed]",
      "text/plain": [
       "<Figure size 640x480 with 1 Axes>"
      ]
     },
     "metadata": {},
     "output_type": "display_data"
    }
   ],
   "source": [
    "# this graph show different of total salary according to gender\n",
    "n['Gender'] = n['Gender'].replace({0.0: 'Male', 1.0: 'Female'})\n",
    "def format_y(value, tick_number):\n",
    "    return f'{int(value/1000)}K'\n",
    "sns.set_theme(style=\"whitegrid\")\n",
    "palette=['skyblue','pink']\n",
    "#palette = sns.color_palette(\"pastel\", 2)\n",
    "ax= sns.barplot(x='Gender', y='Revenue_Total',hue = 'Gender', data=n, palette=palette)\n",
    "ax.yaxis.set_major_formatter(FuncFormatter(format_y))"
   ]
  },
  {
   "cell_type": "markdown",
   "metadata": {},
   "source": [
    "### Insights: \n",
    "    The bar plot shows that the female’s total revenue is greater than the male’s.so the website can offer more discounts on male products \n",
    "    and increase the products for females as their total purchase is high."
   ]
  },
  {
   "cell_type": "markdown",
   "metadata": {},
   "source": [
    "---------------------------------"
   ]
  },
  {
   "cell_type": "markdown",
   "metadata": {},
   "source": [
    "### ❓11. Segmentation of the customers to define the targeted groups"
   ]
  },
  {
   "cell_type": "markdown",
   "metadata": {},
   "source": [
    "### 📈 RFM Analysis "
   ]
  },
  {
   "cell_type": "code",
   "execution_count": 216,
   "metadata": {},
   "outputs": [
    {
     "data": {
      "text/html": [
       "<div>\n",
       "<style scoped>\n",
       "    .dataframe tbody tr th:only-of-type {\n",
       "        vertical-align: middle;\n",
       "    }\n",
       "\n",
       "    .dataframe tbody tr th {\n",
       "        vertical-align: top;\n",
       "    }\n",
       "\n",
       "    .dataframe thead th {\n",
       "        text-align: right;\n",
       "    }\n",
       "</style>\n",
       "<table border=\"1\" class=\"dataframe\">\n",
       "  <thead>\n",
       "    <tr style=\"text-align: right;\">\n",
       "      <th></th>\n",
       "      <th>year</th>\n",
       "      <th>month</th>\n",
       "      <th>day</th>\n",
       "      <th>N_Purchases</th>\n",
       "      <th>date</th>\n",
       "      <th>Recency</th>\n",
       "      <th>Frequency</th>\n",
       "      <th>Monetary</th>\n",
       "    </tr>\n",
       "  </thead>\n",
       "  <tbody>\n",
       "    <tr>\n",
       "      <th>0</th>\n",
       "      <td>2021</td>\n",
       "      <td>6</td>\n",
       "      <td>22</td>\n",
       "      <td>2.0</td>\n",
       "      <td>2021-06-22</td>\n",
       "      <td>1275</td>\n",
       "      <td>2.0</td>\n",
       "      <td>45.3</td>\n",
       "    </tr>\n",
       "    <tr>\n",
       "      <th>1</th>\n",
       "      <td>2021</td>\n",
       "      <td>12</td>\n",
       "      <td>10</td>\n",
       "      <td>3.0</td>\n",
       "      <td>2021-12-10</td>\n",
       "      <td>1104</td>\n",
       "      <td>3.0</td>\n",
       "      <td>36.2</td>\n",
       "    </tr>\n",
       "    <tr>\n",
       "      <th>2</th>\n",
       "      <td>2021</td>\n",
       "      <td>3</td>\n",
       "      <td>14</td>\n",
       "      <td>1.0</td>\n",
       "      <td>2021-03-14</td>\n",
       "      <td>1375</td>\n",
       "      <td>1.0</td>\n",
       "      <td>10.6</td>\n",
       "    </tr>\n",
       "    <tr>\n",
       "      <th>3</th>\n",
       "      <td>2021</td>\n",
       "      <td>10</td>\n",
       "      <td>25</td>\n",
       "      <td>5.0</td>\n",
       "      <td>2021-10-25</td>\n",
       "      <td>1150</td>\n",
       "      <td>5.0</td>\n",
       "      <td>54.1</td>\n",
       "    </tr>\n",
       "    <tr>\n",
       "      <th>4</th>\n",
       "      <td>2021</td>\n",
       "      <td>9</td>\n",
       "      <td>14</td>\n",
       "      <td>1.0</td>\n",
       "      <td>2021-09-14</td>\n",
       "      <td>1191</td>\n",
       "      <td>1.0</td>\n",
       "      <td>56.9</td>\n",
       "    </tr>\n",
       "  </tbody>\n",
       "</table>\n",
       "</div>"
      ],
      "text/plain": [
       "   year  month day  N_Purchases       date  Recency  Frequency  Monetary\n",
       "0  2021      6  22          2.0 2021-06-22     1275        2.0      45.3\n",
       "1  2021     12  10          3.0 2021-12-10     1104        3.0      36.2\n",
       "2  2021      3  14          1.0 2021-03-14     1375        1.0      10.6\n",
       "3  2021     10  25          5.0 2021-10-25     1150        5.0      54.1\n",
       "4  2021      9  14          1.0 2021-09-14     1191        1.0      56.9"
      ]
     },
     "execution_count": 216,
     "metadata": {},
     "output_type": "execute_result"
    }
   ],
   "source": [
    "df['year'] = df['year'].apply(lambda x: 2000 + x)\n",
    "rfm = df[['year', 'month', 'day', 'N_Purchases']].copy()\n",
    "rfm['date'] = pd.to_datetime(rfm[['year', 'month', 'day']])\n",
    "current_date = datetime.now()\n",
    "rfm['Recency'] = (current_date - rfm['date']).dt.days\n",
    "rfm['Frequency'] = df['N_Purchases']\n",
    "rfm['Monetary'] = df['Revenue_Total']\n",
    "rfm.head()\n"
   ]
  },
  {
   "cell_type": "code",
   "execution_count": 217,
   "metadata": {},
   "outputs": [
    {
     "data": {
      "text/html": [
       "<div>\n",
       "<style scoped>\n",
       "    .dataframe tbody tr th:only-of-type {\n",
       "        vertical-align: middle;\n",
       "    }\n",
       "\n",
       "    .dataframe tbody tr th {\n",
       "        vertical-align: top;\n",
       "    }\n",
       "\n",
       "    .dataframe thead th {\n",
       "        text-align: right;\n",
       "    }\n",
       "</style>\n",
       "<table border=\"1\" class=\"dataframe\">\n",
       "  <thead>\n",
       "    <tr style=\"text-align: right;\">\n",
       "      <th></th>\n",
       "      <th>year</th>\n",
       "      <th>month</th>\n",
       "      <th>day</th>\n",
       "      <th>N_Purchases</th>\n",
       "      <th>date</th>\n",
       "      <th>Recency</th>\n",
       "      <th>Frequency</th>\n",
       "      <th>Monetary</th>\n",
       "      <th>r_quartile</th>\n",
       "      <th>f_quartile</th>\n",
       "      <th>m_quartile</th>\n",
       "    </tr>\n",
       "  </thead>\n",
       "  <tbody>\n",
       "    <tr>\n",
       "      <th>0</th>\n",
       "      <td>2021</td>\n",
       "      <td>6</td>\n",
       "      <td>22</td>\n",
       "      <td>2.0</td>\n",
       "      <td>2021-06-22</td>\n",
       "      <td>1275</td>\n",
       "      <td>2.0</td>\n",
       "      <td>45.3</td>\n",
       "      <td>3</td>\n",
       "      <td>4</td>\n",
       "      <td>1</td>\n",
       "    </tr>\n",
       "    <tr>\n",
       "      <th>1</th>\n",
       "      <td>2021</td>\n",
       "      <td>12</td>\n",
       "      <td>10</td>\n",
       "      <td>3.0</td>\n",
       "      <td>2021-12-10</td>\n",
       "      <td>1104</td>\n",
       "      <td>3.0</td>\n",
       "      <td>36.2</td>\n",
       "      <td>1</td>\n",
       "      <td>3</td>\n",
       "      <td>2</td>\n",
       "    </tr>\n",
       "    <tr>\n",
       "      <th>2</th>\n",
       "      <td>2021</td>\n",
       "      <td>3</td>\n",
       "      <td>14</td>\n",
       "      <td>1.0</td>\n",
       "      <td>2021-03-14</td>\n",
       "      <td>1375</td>\n",
       "      <td>1.0</td>\n",
       "      <td>10.6</td>\n",
       "      <td>4</td>\n",
       "      <td>4</td>\n",
       "      <td>4</td>\n",
       "    </tr>\n",
       "    <tr>\n",
       "      <th>3</th>\n",
       "      <td>2021</td>\n",
       "      <td>10</td>\n",
       "      <td>25</td>\n",
       "      <td>5.0</td>\n",
       "      <td>2021-10-25</td>\n",
       "      <td>1150</td>\n",
       "      <td>5.0</td>\n",
       "      <td>54.1</td>\n",
       "      <td>1</td>\n",
       "      <td>2</td>\n",
       "      <td>1</td>\n",
       "    </tr>\n",
       "    <tr>\n",
       "      <th>4</th>\n",
       "      <td>2021</td>\n",
       "      <td>9</td>\n",
       "      <td>14</td>\n",
       "      <td>1.0</td>\n",
       "      <td>2021-09-14</td>\n",
       "      <td>1191</td>\n",
       "      <td>1.0</td>\n",
       "      <td>56.9</td>\n",
       "      <td>2</td>\n",
       "      <td>4</td>\n",
       "      <td>1</td>\n",
       "    </tr>\n",
       "  </tbody>\n",
       "</table>\n",
       "</div>"
      ],
      "text/plain": [
       "   year  month day  N_Purchases       date  Recency  Frequency  Monetary  \\\n",
       "0  2021      6  22          2.0 2021-06-22     1275        2.0      45.3   \n",
       "1  2021     12  10          3.0 2021-12-10     1104        3.0      36.2   \n",
       "2  2021      3  14          1.0 2021-03-14     1375        1.0      10.6   \n",
       "3  2021     10  25          5.0 2021-10-25     1150        5.0      54.1   \n",
       "4  2021      9  14          1.0 2021-09-14     1191        1.0      56.9   \n",
       "\n",
       "  r_quartile f_quartile m_quartile  \n",
       "0          3          4          1  \n",
       "1          1          3          2  \n",
       "2          4          4          4  \n",
       "3          1          2          1  \n",
       "4          2          4          1  "
      ]
     },
     "execution_count": 217,
     "metadata": {},
     "output_type": "execute_result"
    }
   ],
   "source": [
    "rfm['r_quartile'] = pd.qcut(rfm['Recency'], 4, ['1','2','3','4'])\n",
    "rfm['f_quartile'] = pd.qcut(rfm['Frequency'], 4, ['4','3','2','1'])\n",
    "rfm['m_quartile'] = pd.qcut(rfm['Monetary'], 4, ['4','3','2','1'])\n",
    "rfm.head()"
   ]
  },
  {
   "cell_type": "code",
   "execution_count": 218,
   "metadata": {},
   "outputs": [
    {
     "data": {
      "text/html": [
       "<div>\n",
       "<style scoped>\n",
       "    .dataframe tbody tr th:only-of-type {\n",
       "        vertical-align: middle;\n",
       "    }\n",
       "\n",
       "    .dataframe tbody tr th {\n",
       "        vertical-align: top;\n",
       "    }\n",
       "\n",
       "    .dataframe thead th {\n",
       "        text-align: right;\n",
       "    }\n",
       "</style>\n",
       "<table border=\"1\" class=\"dataframe\">\n",
       "  <thead>\n",
       "    <tr style=\"text-align: right;\">\n",
       "      <th></th>\n",
       "      <th>year</th>\n",
       "      <th>month</th>\n",
       "      <th>day</th>\n",
       "      <th>N_Purchases</th>\n",
       "      <th>date</th>\n",
       "      <th>Recency</th>\n",
       "      <th>Frequency</th>\n",
       "      <th>Monetary</th>\n",
       "      <th>r_quartile</th>\n",
       "      <th>f_quartile</th>\n",
       "      <th>m_quartile</th>\n",
       "      <th>RFM_Score</th>\n",
       "    </tr>\n",
       "  </thead>\n",
       "  <tbody>\n",
       "    <tr>\n",
       "      <th>0</th>\n",
       "      <td>2021</td>\n",
       "      <td>6</td>\n",
       "      <td>22</td>\n",
       "      <td>2.0</td>\n",
       "      <td>2021-06-22</td>\n",
       "      <td>1275</td>\n",
       "      <td>2.0</td>\n",
       "      <td>45.3</td>\n",
       "      <td>3</td>\n",
       "      <td>4</td>\n",
       "      <td>1</td>\n",
       "      <td>341</td>\n",
       "    </tr>\n",
       "    <tr>\n",
       "      <th>1</th>\n",
       "      <td>2021</td>\n",
       "      <td>12</td>\n",
       "      <td>10</td>\n",
       "      <td>3.0</td>\n",
       "      <td>2021-12-10</td>\n",
       "      <td>1104</td>\n",
       "      <td>3.0</td>\n",
       "      <td>36.2</td>\n",
       "      <td>1</td>\n",
       "      <td>3</td>\n",
       "      <td>2</td>\n",
       "      <td>132</td>\n",
       "    </tr>\n",
       "    <tr>\n",
       "      <th>2</th>\n",
       "      <td>2021</td>\n",
       "      <td>3</td>\n",
       "      <td>14</td>\n",
       "      <td>1.0</td>\n",
       "      <td>2021-03-14</td>\n",
       "      <td>1375</td>\n",
       "      <td>1.0</td>\n",
       "      <td>10.6</td>\n",
       "      <td>4</td>\n",
       "      <td>4</td>\n",
       "      <td>4</td>\n",
       "      <td>444</td>\n",
       "    </tr>\n",
       "    <tr>\n",
       "      <th>3</th>\n",
       "      <td>2021</td>\n",
       "      <td>10</td>\n",
       "      <td>25</td>\n",
       "      <td>5.0</td>\n",
       "      <td>2021-10-25</td>\n",
       "      <td>1150</td>\n",
       "      <td>5.0</td>\n",
       "      <td>54.1</td>\n",
       "      <td>1</td>\n",
       "      <td>2</td>\n",
       "      <td>1</td>\n",
       "      <td>121</td>\n",
       "    </tr>\n",
       "    <tr>\n",
       "      <th>4</th>\n",
       "      <td>2021</td>\n",
       "      <td>9</td>\n",
       "      <td>14</td>\n",
       "      <td>1.0</td>\n",
       "      <td>2021-09-14</td>\n",
       "      <td>1191</td>\n",
       "      <td>1.0</td>\n",
       "      <td>56.9</td>\n",
       "      <td>2</td>\n",
       "      <td>4</td>\n",
       "      <td>1</td>\n",
       "      <td>241</td>\n",
       "    </tr>\n",
       "  </tbody>\n",
       "</table>\n",
       "</div>"
      ],
      "text/plain": [
       "   year  month day  N_Purchases       date  Recency  Frequency  Monetary  \\\n",
       "0  2021      6  22          2.0 2021-06-22     1275        2.0      45.3   \n",
       "1  2021     12  10          3.0 2021-12-10     1104        3.0      36.2   \n",
       "2  2021      3  14          1.0 2021-03-14     1375        1.0      10.6   \n",
       "3  2021     10  25          5.0 2021-10-25     1150        5.0      54.1   \n",
       "4  2021      9  14          1.0 2021-09-14     1191        1.0      56.9   \n",
       "\n",
       "  r_quartile f_quartile m_quartile RFM_Score  \n",
       "0          3          4          1       341  \n",
       "1          1          3          2       132  \n",
       "2          4          4          4       444  \n",
       "3          1          2          1       121  \n",
       "4          2          4          1       241  "
      ]
     },
     "execution_count": 218,
     "metadata": {},
     "output_type": "execute_result"
    }
   ],
   "source": [
    "rfm[\"RFM_Score\"] = rfm.r_quartile.astype(str) + rfm.f_quartile.astype(str) + rfm.m_quartile.astype(str)\n",
    "rfm.head()"
   ]
  },
  {
   "cell_type": "code",
   "execution_count": 219,
   "metadata": {},
   "outputs": [
    {
     "data": {
      "text/html": [
       "<div>\n",
       "<style scoped>\n",
       "    .dataframe tbody tr th:only-of-type {\n",
       "        vertical-align: middle;\n",
       "    }\n",
       "\n",
       "    .dataframe tbody tr th {\n",
       "        vertical-align: top;\n",
       "    }\n",
       "\n",
       "    .dataframe thead th {\n",
       "        text-align: right;\n",
       "    }\n",
       "</style>\n",
       "<table border=\"1\" class=\"dataframe\">\n",
       "  <thead>\n",
       "    <tr style=\"text-align: right;\">\n",
       "      <th></th>\n",
       "      <th>year</th>\n",
       "      <th>month</th>\n",
       "      <th>day</th>\n",
       "      <th>N_Purchases</th>\n",
       "      <th>date</th>\n",
       "      <th>Recency</th>\n",
       "      <th>Frequency</th>\n",
       "      <th>Monetary</th>\n",
       "      <th>r_quartile</th>\n",
       "      <th>f_quartile</th>\n",
       "      <th>m_quartile</th>\n",
       "      <th>RFM_Score</th>\n",
       "    </tr>\n",
       "  </thead>\n",
       "  <tbody>\n",
       "    <tr>\n",
       "      <th>822</th>\n",
       "      <td>2021</td>\n",
       "      <td>12</td>\n",
       "      <td>31</td>\n",
       "      <td>7.0</td>\n",
       "      <td>2021-12-31</td>\n",
       "      <td>1083</td>\n",
       "      <td>7.0</td>\n",
       "      <td>59.9</td>\n",
       "      <td>1</td>\n",
       "      <td>1</td>\n",
       "      <td>1</td>\n",
       "      <td>111</td>\n",
       "    </tr>\n",
       "    <tr>\n",
       "      <th>25864</th>\n",
       "      <td>2021</td>\n",
       "      <td>10</td>\n",
       "      <td>30</td>\n",
       "      <td>7.0</td>\n",
       "      <td>2021-10-30</td>\n",
       "      <td>1145</td>\n",
       "      <td>7.0</td>\n",
       "      <td>59.9</td>\n",
       "      <td>1</td>\n",
       "      <td>1</td>\n",
       "      <td>1</td>\n",
       "      <td>111</td>\n",
       "    </tr>\n",
       "    <tr>\n",
       "      <th>6627</th>\n",
       "      <td>2021</td>\n",
       "      <td>10</td>\n",
       "      <td>14</td>\n",
       "      <td>7.0</td>\n",
       "      <td>2021-10-14</td>\n",
       "      <td>1161</td>\n",
       "      <td>7.0</td>\n",
       "      <td>59.9</td>\n",
       "      <td>1</td>\n",
       "      <td>1</td>\n",
       "      <td>1</td>\n",
       "      <td>111</td>\n",
       "    </tr>\n",
       "    <tr>\n",
       "      <th>21089</th>\n",
       "      <td>2021</td>\n",
       "      <td>11</td>\n",
       "      <td>26</td>\n",
       "      <td>7.0</td>\n",
       "      <td>2021-11-26</td>\n",
       "      <td>1118</td>\n",
       "      <td>7.0</td>\n",
       "      <td>59.9</td>\n",
       "      <td>1</td>\n",
       "      <td>1</td>\n",
       "      <td>1</td>\n",
       "      <td>111</td>\n",
       "    </tr>\n",
       "    <tr>\n",
       "      <th>59101</th>\n",
       "      <td>2021</td>\n",
       "      <td>11</td>\n",
       "      <td>29</td>\n",
       "      <td>7.0</td>\n",
       "      <td>2021-11-29</td>\n",
       "      <td>1115</td>\n",
       "      <td>7.0</td>\n",
       "      <td>59.7</td>\n",
       "      <td>1</td>\n",
       "      <td>1</td>\n",
       "      <td>1</td>\n",
       "      <td>111</td>\n",
       "    </tr>\n",
       "  </tbody>\n",
       "</table>\n",
       "</div>"
      ],
      "text/plain": [
       "       year  month day  N_Purchases       date  Recency  Frequency  Monetary  \\\n",
       "822    2021     12  31          7.0 2021-12-31     1083        7.0      59.9   \n",
       "25864  2021     10  30          7.0 2021-10-30     1145        7.0      59.9   \n",
       "6627   2021     10  14          7.0 2021-10-14     1161        7.0      59.9   \n",
       "21089  2021     11  26          7.0 2021-11-26     1118        7.0      59.9   \n",
       "59101  2021     11  29          7.0 2021-11-29     1115        7.0      59.7   \n",
       "\n",
       "      r_quartile f_quartile m_quartile RFM_Score  \n",
       "822            1          1          1       111  \n",
       "25864          1          1          1       111  \n",
       "6627           1          1          1       111  \n",
       "21089          1          1          1       111  \n",
       "59101          1          1          1       111  "
      ]
     },
     "execution_count": 219,
     "metadata": {},
     "output_type": "execute_result"
    }
   ],
   "source": [
    "rfm[rfm['RFM_Score']=='111'].sort_values('Monetary',ascending=False).head()"
   ]
  },
  {
   "cell_type": "code",
   "execution_count": 220,
   "metadata": {},
   "outputs": [
    {
     "data": {
      "text/html": [
       "<div>\n",
       "<style scoped>\n",
       "    .dataframe tbody tr th:only-of-type {\n",
       "        vertical-align: middle;\n",
       "    }\n",
       "\n",
       "    .dataframe tbody tr th {\n",
       "        vertical-align: top;\n",
       "    }\n",
       "\n",
       "    .dataframe thead th {\n",
       "        text-align: right;\n",
       "    }\n",
       "</style>\n",
       "<table border=\"1\" class=\"dataframe\">\n",
       "  <thead>\n",
       "    <tr style=\"text-align: right;\">\n",
       "      <th></th>\n",
       "      <th>year</th>\n",
       "      <th>month</th>\n",
       "      <th>day</th>\n",
       "      <th>N_Purchases</th>\n",
       "      <th>date</th>\n",
       "      <th>Recency</th>\n",
       "      <th>Frequency</th>\n",
       "      <th>Monetary</th>\n",
       "      <th>r_quartile</th>\n",
       "      <th>f_quartile</th>\n",
       "      <th>m_quartile</th>\n",
       "      <th>RFM_Score</th>\n",
       "      <th>Value_Segment</th>\n",
       "    </tr>\n",
       "  </thead>\n",
       "  <tbody>\n",
       "    <tr>\n",
       "      <th>0</th>\n",
       "      <td>2021</td>\n",
       "      <td>6</td>\n",
       "      <td>22</td>\n",
       "      <td>2.0</td>\n",
       "      <td>2021-06-22</td>\n",
       "      <td>1275</td>\n",
       "      <td>2.0</td>\n",
       "      <td>45.3</td>\n",
       "      <td>3</td>\n",
       "      <td>4</td>\n",
       "      <td>1</td>\n",
       "      <td>341</td>\n",
       "      <td>Low-Value</td>\n",
       "    </tr>\n",
       "    <tr>\n",
       "      <th>1</th>\n",
       "      <td>2021</td>\n",
       "      <td>12</td>\n",
       "      <td>10</td>\n",
       "      <td>3.0</td>\n",
       "      <td>2021-12-10</td>\n",
       "      <td>1104</td>\n",
       "      <td>3.0</td>\n",
       "      <td>36.2</td>\n",
       "      <td>1</td>\n",
       "      <td>3</td>\n",
       "      <td>2</td>\n",
       "      <td>132</td>\n",
       "      <td>High-Value</td>\n",
       "    </tr>\n",
       "    <tr>\n",
       "      <th>2</th>\n",
       "      <td>2021</td>\n",
       "      <td>3</td>\n",
       "      <td>14</td>\n",
       "      <td>1.0</td>\n",
       "      <td>2021-03-14</td>\n",
       "      <td>1375</td>\n",
       "      <td>1.0</td>\n",
       "      <td>10.6</td>\n",
       "      <td>4</td>\n",
       "      <td>4</td>\n",
       "      <td>4</td>\n",
       "      <td>444</td>\n",
       "      <td>Low-Value</td>\n",
       "    </tr>\n",
       "    <tr>\n",
       "      <th>3</th>\n",
       "      <td>2021</td>\n",
       "      <td>10</td>\n",
       "      <td>25</td>\n",
       "      <td>5.0</td>\n",
       "      <td>2021-10-25</td>\n",
       "      <td>1150</td>\n",
       "      <td>5.0</td>\n",
       "      <td>54.1</td>\n",
       "      <td>1</td>\n",
       "      <td>2</td>\n",
       "      <td>1</td>\n",
       "      <td>121</td>\n",
       "      <td>High-Value</td>\n",
       "    </tr>\n",
       "    <tr>\n",
       "      <th>4</th>\n",
       "      <td>2021</td>\n",
       "      <td>9</td>\n",
       "      <td>14</td>\n",
       "      <td>1.0</td>\n",
       "      <td>2021-09-14</td>\n",
       "      <td>1191</td>\n",
       "      <td>1.0</td>\n",
       "      <td>56.9</td>\n",
       "      <td>2</td>\n",
       "      <td>4</td>\n",
       "      <td>1</td>\n",
       "      <td>241</td>\n",
       "      <td>Mid-Value</td>\n",
       "    </tr>\n",
       "  </tbody>\n",
       "</table>\n",
       "</div>"
      ],
      "text/plain": [
       "   year  month day  N_Purchases       date  Recency  Frequency  Monetary  \\\n",
       "0  2021      6  22          2.0 2021-06-22     1275        2.0      45.3   \n",
       "1  2021     12  10          3.0 2021-12-10     1104        3.0      36.2   \n",
       "2  2021      3  14          1.0 2021-03-14     1375        1.0      10.6   \n",
       "3  2021     10  25          5.0 2021-10-25     1150        5.0      54.1   \n",
       "4  2021      9  14          1.0 2021-09-14     1191        1.0      56.9   \n",
       "\n",
       "  r_quartile f_quartile m_quartile  RFM_Score Value_Segment  \n",
       "0          3          4          1        341     Low-Value  \n",
       "1          1          3          2        132    High-Value  \n",
       "2          4          4          4        444     Low-Value  \n",
       "3          1          2          1        121    High-Value  \n",
       "4          2          4          1        241     Mid-Value  "
      ]
     },
     "execution_count": 220,
     "metadata": {},
     "output_type": "execute_result"
    }
   ],
   "source": [
    "rfm[\"RFM_Score\"] = rfm['RFM_Score'].astype(int)\n",
    "segment_labels = ['High-Value', 'Mid-Value','Low-Value']\n",
    "rfm['Value_Segment'] = pd.qcut(rfm['RFM_Score'], q=3, labels=segment_labels)\n",
    "rfm.head()"
   ]
  },
  {
   "cell_type": "markdown",
   "metadata": {},
   "source": [
    "### plot for the rfm model"
   ]
  },
  {
   "cell_type": "code",
   "execution_count": 221,
   "metadata": {},
   "outputs": [
    {
     "data": {
      "image/png": "[encoded data removed]",
      "text/plain": [
       "<Figure size 1000x600 with 1 Axes>"
      ]
     },
     "metadata": {},
     "output_type": "display_data"
    }
   ],
   "source": [
    "plt.figure(figsize=(10, 6)) # Set the figure size\n",
    "ax = rfm.Value_Segment.value_counts().sort_values().plot(kind='bar', color=sns.color_palette(\"pastel\"))\n",
    "# Customize the plot\n",
    "ax.set_title('Value Segment Distribution', fontsize=16) \n",
    "ax.set_xlabel('Value Segment', fontsize=14) \n",
    "ax.set_ylabel('Count', fontsize=14) \n",
    "ax.grid(axis='y', linestyle='--', alpha=0.7) \n",
    "for p in ax.patches:\n",
    "    ax.annotate(f'{int(p.get_height())}',\n",
    "\n",
    "(p.get_x() + p.get_width() / 2., p.get_height()),\n",
    "ha='center', va='bottom', fontsize=12)\n",
    "plt.show()"
   ]
  },
  {
   "cell_type": "markdown",
   "metadata": {},
   "source": [
    "### Insights:\n",
    "    From this graph, the high-value segmentation customers are the dominant but the low value is still high so the website can make surveys \n",
    "    to rate the website services and to allow users to make comments to improve the services of the website."
   ]
  }
 ],
 "metadata": {
  "kernelspec": {
   "display_name": "Python 3",
   "language": "python",
   "name": "python3"
  },
  "language_info": {
   "codemirror_mode": {
    "name": "ipython",
    "version": 3
   },
   "file_extension": ".py",
   "mimetype": "text/x-python",
   "name": "python",
   "nbconvert_exporter": "python",
   "pygments_lexer": "ipython3",
   "version": "3.11.4"
  }
 },
 "nbformat": 4,
 "nbformat_minor": 2
}
